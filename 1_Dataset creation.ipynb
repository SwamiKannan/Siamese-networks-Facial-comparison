{
 "cells": [
  {
   "cell_type": "code",
   "execution_count": 1,
   "id": "6fbeb78d",
   "metadata": {},
   "outputs": [],
   "source": [
    "import os\n",
    "import tarfile"
   ]
  },
  {
   "cell_type": "code",
   "execution_count": 2,
   "id": "31bed76c",
   "metadata": {},
   "outputs": [],
   "source": [
    "#Extract the files from the zip file\n",
    "# file=tarfile.open(os.path.join('lfw.tgz'))\n",
    "# file.extractall()"
   ]
  },
  {
   "cell_type": "code",
   "execution_count": 3,
   "id": "c2e123c1",
   "metadata": {},
   "outputs": [],
   "source": [
    "base_path=os.path.join('lfw')\n",
    "images_directory = os.listdir(base_path)"
   ]
  },
  {
   "cell_type": "markdown",
   "id": "b989f852",
   "metadata": {},
   "source": [
    "## Generate anchor, positive and negative example"
   ]
  },
  {
   "cell_type": "code",
   "execution_count": 4,
   "id": "edb9a0f4",
   "metadata": {},
   "outputs": [],
   "source": [
    "from image_utils import get_image_folders,create_dataset, save_data"
   ]
  },
  {
   "cell_type": "code",
   "execution_count": 5,
   "id": "2a0ab685",
   "metadata": {},
   "outputs": [],
   "source": [
    "single_img_folder, multi_img_folders = get_image_folders(images_directory, base_path)"
   ]
  },
  {
   "cell_type": "code",
   "execution_count": 6,
   "id": "372ba377",
   "metadata": {},
   "outputs": [],
   "source": [
    "sample_size=40000"
   ]
  },
  {
   "cell_type": "code",
   "execution_count": 7,
   "id": "bde8eac2",
   "metadata": {},
   "outputs": [],
   "source": [
    "positives, negatives, final_dataset=create_dataset(sample_size,multi_img_folders,base_path, images_directory)"
   ]
  },
  {
   "cell_type": "code",
   "execution_count": 8,
   "id": "74a93cd4",
   "metadata": {},
   "outputs": [
    {
     "name": "stdout",
     "output_type": "stream",
     "text": [
      "Size of positive samples:  20181\n",
      "Size of negative samples:  20156\n",
      "Final Sample size:  40337\n"
     ]
    }
   ],
   "source": [
    "print('Size of positive samples: ',len(positives))\n",
    "print('Size of negative samples: ',len(negatives))\n",
    "print('Final Sample size: ',len(final_dataset))"
   ]
  },
  {
   "cell_type": "code",
   "execution_count": 9,
   "id": "7283149f",
   "metadata": {},
   "outputs": [],
   "source": [
    "save_data(positives, negatives,final_dataset)"
   ]
  },
  {
   "cell_type": "code",
   "execution_count": null,
   "id": "70690992",
   "metadata": {},
   "outputs": [],
   "source": []
  }
 ],
 "metadata": {
  "kernelspec": {
   "display_name": "Python 3 (ipykernel)",
   "language": "python",
   "name": "python3"
  },
  "language_info": {
   "codemirror_mode": {
    "name": "ipython",
    "version": 3
   },
   "file_extension": ".py",
   "mimetype": "text/x-python",
   "name": "python",
   "nbconvert_exporter": "python",
   "pygments_lexer": "ipython3",
   "version": "3.7.13"
  }
 },
 "nbformat": 4,
 "nbformat_minor": 5
}
