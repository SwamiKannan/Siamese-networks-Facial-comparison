{
 "cells": [
  {
   "cell_type": "code",
   "execution_count": 1,
   "id": "d975a188",
   "metadata": {},
   "outputs": [],
   "source": [
    "import torch\n",
    "import torch.nn as nn\n",
    "import torch.nn.functional as F\n",
    "from sklearn.metrics import classification_report, confusion_matrix\n",
    "import pickle\n",
    "import os\n",
    "\n",
    "\n",
    "from dataset_fr import datas\n",
    "from torch.utils.data import DataLoader\n",
    "import numpy as np"
   ]
  },
  {
   "cell_type": "code",
   "execution_count": 2,
   "id": "65d6a3a4",
   "metadata": {},
   "outputs": [],
   "source": [
    "base_path=os.path.join('lfw')"
   ]
  },
  {
   "cell_type": "code",
   "execution_count": 3,
   "id": "fadaf8d7",
   "metadata": {},
   "outputs": [],
   "source": [
    "fr_test=torch.load('face_recognition.pt')"
   ]
  },
  {
   "cell_type": "code",
   "execution_count": 4,
   "id": "84ef2e67",
   "metadata": {},
   "outputs": [],
   "source": [
    "inputFile = 'total.data'\n",
    "fd = open(inputFile, 'rb')\n",
    "all_images = pickle.load(fd)"
   ]
  },
  {
   "cell_type": "code",
   "execution_count": 5,
   "id": "d319ecb3",
   "metadata": {},
   "outputs": [],
   "source": [
    "faces=datas(all_images,base_path)\n",
    "train_set, test_set = torch.utils.data.random_split(faces, [int(0.8*len(faces)), len(faces)-int(0.8*len(faces))])"
   ]
  },
  {
   "cell_type": "code",
   "execution_count": 6,
   "id": "c4a560c0",
   "metadata": {},
   "outputs": [],
   "source": [
    "dataloader=DataLoader(test_set)"
   ]
  },
  {
   "cell_type": "code",
   "execution_count": 7,
   "id": "ab138a6a",
   "metadata": {},
   "outputs": [],
   "source": [
    "y_compare=[]\n",
    "with torch.no_grad():\n",
    "    for batch in dataloader:\n",
    "        img1, img2, y_target=batch\n",
    "        y_pred=fr_test(img1.cuda(),img2.cuda())\n",
    "        y_compare.append([y_pred.item(),y_target.item()])"
   ]
  },
  {
   "cell_type": "code",
   "execution_count": 8,
   "id": "55031c8b",
   "metadata": {},
   "outputs": [],
   "source": [
    "y_np=np.round(y_compare,2).squeeze().astype(int)"
   ]
  },
  {
   "cell_type": "code",
   "execution_count": 9,
   "id": "cc3e1a07",
   "metadata": {},
   "outputs": [
    {
     "name": "stdout",
     "output_type": "stream",
     "text": [
      "[[4059    7]\n",
      " [ 220 3782]]\n"
     ]
    }
   ],
   "source": [
    "print(confusion_matrix(y_np[:,1], y_np[:,0]))"
   ]
  },
  {
   "cell_type": "code",
   "execution_count": 10,
   "id": "fbfb5f66",
   "metadata": {},
   "outputs": [
    {
     "name": "stdout",
     "output_type": "stream",
     "text": [
      "              precision    recall  f1-score   support\n",
      "\n",
      "     matched       0.95      1.00      0.97      4066\n",
      " not_matched       1.00      0.95      0.97      4002\n",
      "\n",
      "    accuracy                           0.97      8068\n",
      "   macro avg       0.97      0.97      0.97      8068\n",
      "weighted avg       0.97      0.97      0.97      8068\n",
      "\n"
     ]
    }
   ],
   "source": [
    "target_names = ['matched', 'not_matched']\n",
    "print(classification_report(y_np[:,1], y_np[:,0], target_names=target_names))"
   ]
  }
 ],
 "metadata": {
  "kernelspec": {
   "display_name": "Python 3 (ipykernel)",
   "language": "python",
   "name": "python3"
  },
  "language_info": {
   "codemirror_mode": {
    "name": "ipython",
    "version": 3
   },
   "file_extension": ".py",
   "mimetype": "text/x-python",
   "name": "python",
   "nbconvert_exporter": "python",
   "pygments_lexer": "ipython3",
   "version": "3.7.13"
  }
 },
 "nbformat": 4,
 "nbformat_minor": 5
}
